{
 "cells": [
  {
   "cell_type": "markdown",
   "id": "l8bXtIWncNBg",
   "metadata": {
    "id": "l8bXtIWncNBg"
   },
   "source": [
    "# Train Travel Demand Modelling using Python\n",
    "## 01. Data Pre-processing and Exploratory Data Analysis\n",
    "\n",
    "This is the first notebook out of 2 which details the steps taken to clean data, engineer new features and visualize preliminary relationships between variables.\n",
    "\n",
    "- [1. Data Cleaning](#section1)<br/>\n",
    "    - [1.1 Raw Data Description](#section1.1)<br/>\n",
    "    - [1.2 Outlier Analysis & Removal](#section1.2)<br/>\n",
    "    - [1.3 Feature Engineering](#section1.3)<br/>\n",
    "    - [1.4 Dataset at Daily Granularity](#section1.4)<br/>\n",
    "- [2. Exploratory Data Analysis on Raw Data](#section2)<br/>\n",
    "    - [2.1 Analysing Overall Variable Correlations](#section2.1)<br/>\n",
    "    - [2.2 Analysing Drivers of Ticket Demand](#section2.2)<br/>\n",
    "    - [2.2 Analysing Drivers of Ticket Price](#section2.3)<br/>\n",
    "- [3. Clean Transform Data for Modelling](#section3)<br/>\n",
    "    - [3.1 Drop Redundant Columns](#section3.1)<br/>\n",
    "    - [3.2 Log Transform Demand & Price](#section3.2)<br/>\n",
    "- [4. Exploratory Data Analysis on Transformed Data](#section4)<br/>\n",
    "- [5. Export Data](#section4)<br/>\n"
   ]
  },
  {
   "cell_type": "code",
   "execution_count": 1,
   "id": "NXNHHEc7cNBm",
   "metadata": {
    "executionInfo": {
     "elapsed": 1529,
     "status": "ok",
     "timestamp": 1632662681447,
     "user": {
      "displayName": "Gino Martelli Tiu",
      "photoUrl": "https://lh3.googleusercontent.com/a-/AOh14Gg2q1xwieHsHb9W2hnBOpuRZ_iFMqZet4sgzL_8lw=s64",
      "userId": "06458995509664775333"
     },
     "user_tz": -480
    },
    "id": "NXNHHEc7cNBm"
   },
   "outputs": [],
   "source": [
    "# Import numerical libraries\n",
    "import pandas as pd\n",
    "import numpy as np\n",
    "import datetime as dt\n",
    "\n",
    "# Import plotting libraries\n",
    "import seaborn as sns\n",
    "from matplotlib import pyplot as plt"
   ]
  },
  {
   "cell_type": "markdown",
   "id": "3gJ6GsxycNBl",
   "metadata": {
    "id": "3gJ6GsxycNBl"
   },
   "source": [
    "## 1. Data Cleaning <a id=\"section1\"></a>"
   ]
  },
  {
   "cell_type": "code",
   "execution_count": 2,
   "id": "95d4e619",
   "metadata": {},
   "outputs": [
    {
     "data": {
      "text/html": [
       "<div>\n",
       "<style scoped>\n",
       "    .dataframe tbody tr th:only-of-type {\n",
       "        vertical-align: middle;\n",
       "    }\n",
       "\n",
       "    .dataframe tbody tr th {\n",
       "        vertical-align: top;\n",
       "    }\n",
       "\n",
       "    .dataframe thead th {\n",
       "        text-align: right;\n",
       "    }\n",
       "</style>\n",
       "<table border=\"1\" class=\"dataframe\">\n",
       "  <thead>\n",
       "    <tr style=\"text-align: right;\">\n",
       "      <th></th>\n",
       "      <th>num_seats_total</th>\n",
       "      <th>mean_net_ticket_price</th>\n",
       "      <th>dept_date</th>\n",
       "      <th>purchase_date</th>\n",
       "      <th>train</th>\n",
       "      <th>cumulative_sales</th>\n",
       "      <th>isnormcabin</th>\n",
       "      <th>isreturn</th>\n",
       "      <th>isoneway</th>\n",
       "      <th>customer_cat</th>\n",
       "    </tr>\n",
       "  </thead>\n",
       "  <tbody>\n",
       "    <tr>\n",
       "      <th>0</th>\n",
       "      <td>1</td>\n",
       "      <td>188.663422</td>\n",
       "      <td>2019-10-09</td>\n",
       "      <td>2018-10-10</td>\n",
       "      <td>A</td>\n",
       "      <td>1</td>\n",
       "      <td>1</td>\n",
       "      <td>0</td>\n",
       "      <td>0</td>\n",
       "      <td>A</td>\n",
       "    </tr>\n",
       "    <tr>\n",
       "      <th>1</th>\n",
       "      <td>1</td>\n",
       "      <td>358.428869</td>\n",
       "      <td>2019-05-27</td>\n",
       "      <td>2018-06-06</td>\n",
       "      <td>B</td>\n",
       "      <td>1</td>\n",
       "      <td>0</td>\n",
       "      <td>1</td>\n",
       "      <td>0</td>\n",
       "      <td>A</td>\n",
       "    </tr>\n",
       "    <tr>\n",
       "      <th>2</th>\n",
       "      <td>1</td>\n",
       "      <td>356.372684</td>\n",
       "      <td>2020-05-31</td>\n",
       "      <td>2019-06-17</td>\n",
       "      <td>B</td>\n",
       "      <td>1</td>\n",
       "      <td>0</td>\n",
       "      <td>1</td>\n",
       "      <td>0</td>\n",
       "      <td>A</td>\n",
       "    </tr>\n",
       "    <tr>\n",
       "      <th>3</th>\n",
       "      <td>1</td>\n",
       "      <td>396.370505</td>\n",
       "      <td>2019-12-10</td>\n",
       "      <td>2018-12-27</td>\n",
       "      <td>C</td>\n",
       "      <td>1</td>\n",
       "      <td>0</td>\n",
       "      <td>1</td>\n",
       "      <td>0</td>\n",
       "      <td>A</td>\n",
       "    </tr>\n",
       "    <tr>\n",
       "      <th>4</th>\n",
       "      <td>1</td>\n",
       "      <td>364.264552</td>\n",
       "      <td>2020-05-31</td>\n",
       "      <td>2019-06-19</td>\n",
       "      <td>B</td>\n",
       "      <td>2</td>\n",
       "      <td>0</td>\n",
       "      <td>1</td>\n",
       "      <td>0</td>\n",
       "      <td>A</td>\n",
       "    </tr>\n",
       "  </tbody>\n",
       "</table>\n",
       "</div>"
      ],
      "text/plain": [
       "   num_seats_total  mean_net_ticket_price  dept_date purchase_date train  \\\n",
       "0                1             188.663422 2019-10-09    2018-10-10     A   \n",
       "1                1             358.428869 2019-05-27    2018-06-06     B   \n",
       "2                1             356.372684 2020-05-31    2019-06-17     B   \n",
       "3                1             396.370505 2019-12-10    2018-12-27     C   \n",
       "4                1             364.264552 2020-05-31    2019-06-19     B   \n",
       "\n",
       "   cumulative_sales  isnormcabin  isreturn  isoneway customer_cat  \n",
       "0                 1            1         0         0            A  \n",
       "1                 1            0         1         0            A  \n",
       "2                 1            0         1         0            A  \n",
       "3                 1            0         1         0            A  \n",
       "4                 2            0         1         0            A  "
      ]
     },
     "execution_count": 2,
     "metadata": {},
     "output_type": "execute_result"
    }
   ],
   "source": [
    "# Import data\n",
    "df=pd.read_csv('Data-GP1.csv')\n",
    "\n",
    "# Clean whitespace and convert to lower case\n",
    "df.columns=[x.strip().lower() for x in df.columns]\n",
    "\n",
    "# Rename a misspelled column\n",
    "df.rename(columns={'culmulative_sales':'cumulative_sales', 'train_number_all': 'train'},inplace=True)\n",
    "\n",
    "# Convert date columns to date format\n",
    "df.dept_date=pd.to_datetime(df['dept_date'])\n",
    "df.purchase_date=pd.to_datetime(df['purchase_date'])\n",
    "\n",
    "df.head()"
   ]
  },
  {
   "cell_type": "markdown",
   "id": "ea5e8103",
   "metadata": {},
   "source": [
    "### 1.1 Raw Data Description <a id=\"section1.1\"></a>\n",
    "\n",
    "There are 209,697 rows in the data set and 10 features in total. Each line represents a unique purchase transaction for purchases from Jun-2018 to Jun-2019.\n",
    "\n",
    "- *num_seats_total*: Number of seats bought on that purchase_date. (<b>Target variable, Y</b>)\n",
    "- *mean_net_ticket_price*: Mean ticket price paid in that particular purchase transaction.\n",
    "- *dept_date*: Train departure date.\n",
    "- *purchase_date*: Ticket purchase date.\n",
    "- *train*: Alphabet representing a unique train identifier\\*.\n",
    "- *cumulative_sales*: Total seats sold for a particular train's departure date. \n",
    "- *isnormcabin*: Boolean value (0/1) to identify normal vs premium cabins.\n",
    "- *isreturn*: Boolean value (0/1) to identify return to the train's base station.\n",
    "- *isoneway*: Boolean value (0/1) to identify if ticket is one-way or includes return.\n",
    "- *customer_cat*: Two customer categories, A & B.\n",
    "\n",
    "\\*It is not known what differentiates trains, although it is hypothesized that these may be different routes or different timings."
   ]
  },
  {
   "cell_type": "code",
   "execution_count": 3,
   "id": "f344bf63",
   "metadata": {},
   "outputs": [
    {
     "data": {
      "text/html": [
       "<div>\n",
       "<style scoped>\n",
       "    .dataframe tbody tr th:only-of-type {\n",
       "        vertical-align: middle;\n",
       "    }\n",
       "\n",
       "    .dataframe tbody tr th {\n",
       "        vertical-align: top;\n",
       "    }\n",
       "\n",
       "    .dataframe thead th {\n",
       "        text-align: right;\n",
       "    }\n",
       "</style>\n",
       "<table border=\"1\" class=\"dataframe\">\n",
       "  <thead>\n",
       "    <tr style=\"text-align: right;\">\n",
       "      <th></th>\n",
       "      <th>count</th>\n",
       "      <th>unique</th>\n",
       "      <th>top</th>\n",
       "      <th>freq</th>\n",
       "      <th>mean</th>\n",
       "      <th>min</th>\n",
       "      <th>25%</th>\n",
       "      <th>50%</th>\n",
       "      <th>75%</th>\n",
       "      <th>max</th>\n",
       "      <th>std</th>\n",
       "    </tr>\n",
       "  </thead>\n",
       "  <tbody>\n",
       "    <tr>\n",
       "      <th>num_seats_total</th>\n",
       "      <td>209697.00</td>\n",
       "      <td>NaN</td>\n",
       "      <td>NaN</td>\n",
       "      <td>NaN</td>\n",
       "      <td>2.38</td>\n",
       "      <td>1.00</td>\n",
       "      <td>1.00</td>\n",
       "      <td>2.00</td>\n",
       "      <td>3.00</td>\n",
       "      <td>66.00</td>\n",
       "      <td>2.08</td>\n",
       "    </tr>\n",
       "    <tr>\n",
       "      <th>mean_net_ticket_price</th>\n",
       "      <td>209697.00</td>\n",
       "      <td>NaN</td>\n",
       "      <td>NaN</td>\n",
       "      <td>NaN</td>\n",
       "      <td>230.12</td>\n",
       "      <td>1.28</td>\n",
       "      <td>108.87</td>\n",
       "      <td>186.28</td>\n",
       "      <td>350.41</td>\n",
       "      <td>7855.77</td>\n",
       "      <td>147.02</td>\n",
       "    </tr>\n",
       "    <tr>\n",
       "      <th>dept_date</th>\n",
       "      <td>209697</td>\n",
       "      <td>NaN</td>\n",
       "      <td>NaN</td>\n",
       "      <td>NaN</td>\n",
       "      <td>2019-02-19 18:47:47.783516416</td>\n",
       "      <td>2018-06-01 00:00:00</td>\n",
       "      <td>2018-11-05 00:00:00</td>\n",
       "      <td>2019-02-21 00:00:00</td>\n",
       "      <td>2019-05-27 00:00:00</td>\n",
       "      <td>2020-06-13 00:00:00</td>\n",
       "      <td>NaN</td>\n",
       "    </tr>\n",
       "    <tr>\n",
       "      <th>purchase_date</th>\n",
       "      <td>209697</td>\n",
       "      <td>NaN</td>\n",
       "      <td>NaN</td>\n",
       "      <td>NaN</td>\n",
       "      <td>2018-12-18 12:26:46.683929856</td>\n",
       "      <td>2018-06-01 00:00:00</td>\n",
       "      <td>2018-09-07 00:00:00</td>\n",
       "      <td>2018-12-19 00:00:00</td>\n",
       "      <td>2019-04-02 00:00:00</td>\n",
       "      <td>2019-06-30 00:00:00</td>\n",
       "      <td>NaN</td>\n",
       "    </tr>\n",
       "    <tr>\n",
       "      <th>train</th>\n",
       "      <td>209697</td>\n",
       "      <td>15</td>\n",
       "      <td>B</td>\n",
       "      <td>26855</td>\n",
       "      <td>NaN</td>\n",
       "      <td>NaN</td>\n",
       "      <td>NaN</td>\n",
       "      <td>NaN</td>\n",
       "      <td>NaN</td>\n",
       "      <td>NaN</td>\n",
       "      <td>NaN</td>\n",
       "    </tr>\n",
       "    <tr>\n",
       "      <th>cumulative_sales</th>\n",
       "      <td>209697.00</td>\n",
       "      <td>NaN</td>\n",
       "      <td>NaN</td>\n",
       "      <td>NaN</td>\n",
       "      <td>15.88</td>\n",
       "      <td>1.00</td>\n",
       "      <td>3.00</td>\n",
       "      <td>8.00</td>\n",
       "      <td>21.00</td>\n",
       "      <td>187.00</td>\n",
       "      <td>19.80</td>\n",
       "    </tr>\n",
       "    <tr>\n",
       "      <th>isnormcabin</th>\n",
       "      <td>209697.00</td>\n",
       "      <td>NaN</td>\n",
       "      <td>NaN</td>\n",
       "      <td>NaN</td>\n",
       "      <td>0.60</td>\n",
       "      <td>0.00</td>\n",
       "      <td>0.00</td>\n",
       "      <td>1.00</td>\n",
       "      <td>1.00</td>\n",
       "      <td>1.00</td>\n",
       "      <td>0.49</td>\n",
       "    </tr>\n",
       "    <tr>\n",
       "      <th>isreturn</th>\n",
       "      <td>209697.00</td>\n",
       "      <td>NaN</td>\n",
       "      <td>NaN</td>\n",
       "      <td>NaN</td>\n",
       "      <td>0.48</td>\n",
       "      <td>0.00</td>\n",
       "      <td>0.00</td>\n",
       "      <td>0.00</td>\n",
       "      <td>1.00</td>\n",
       "      <td>1.00</td>\n",
       "      <td>0.50</td>\n",
       "    </tr>\n",
       "    <tr>\n",
       "      <th>isoneway</th>\n",
       "      <td>209697.00</td>\n",
       "      <td>NaN</td>\n",
       "      <td>NaN</td>\n",
       "      <td>NaN</td>\n",
       "      <td>0.12</td>\n",
       "      <td>0.00</td>\n",
       "      <td>0.00</td>\n",
       "      <td>0.00</td>\n",
       "      <td>0.00</td>\n",
       "      <td>1.00</td>\n",
       "      <td>0.33</td>\n",
       "    </tr>\n",
       "    <tr>\n",
       "      <th>customer_cat</th>\n",
       "      <td>209697</td>\n",
       "      <td>2</td>\n",
       "      <td>B</td>\n",
       "      <td>162404</td>\n",
       "      <td>NaN</td>\n",
       "      <td>NaN</td>\n",
       "      <td>NaN</td>\n",
       "      <td>NaN</td>\n",
       "      <td>NaN</td>\n",
       "      <td>NaN</td>\n",
       "      <td>NaN</td>\n",
       "    </tr>\n",
       "  </tbody>\n",
       "</table>\n",
       "</div>"
      ],
      "text/plain": [
       "                          count unique  top    freq  \\\n",
       "num_seats_total       209697.00    NaN  NaN     NaN   \n",
       "mean_net_ticket_price 209697.00    NaN  NaN     NaN   \n",
       "dept_date                209697    NaN  NaN     NaN   \n",
       "purchase_date            209697    NaN  NaN     NaN   \n",
       "train                    209697     15    B   26855   \n",
       "cumulative_sales      209697.00    NaN  NaN     NaN   \n",
       "isnormcabin           209697.00    NaN  NaN     NaN   \n",
       "isreturn              209697.00    NaN  NaN     NaN   \n",
       "isoneway              209697.00    NaN  NaN     NaN   \n",
       "customer_cat             209697      2    B  162404   \n",
       "\n",
       "                                                mean                  min  \\\n",
       "num_seats_total                                 2.38                 1.00   \n",
       "mean_net_ticket_price                         230.12                 1.28   \n",
       "dept_date              2019-02-19 18:47:47.783516416  2018-06-01 00:00:00   \n",
       "purchase_date          2018-12-18 12:26:46.683929856  2018-06-01 00:00:00   \n",
       "train                                            NaN                  NaN   \n",
       "cumulative_sales                               15.88                 1.00   \n",
       "isnormcabin                                     0.60                 0.00   \n",
       "isreturn                                        0.48                 0.00   \n",
       "isoneway                                        0.12                 0.00   \n",
       "customer_cat                                     NaN                  NaN   \n",
       "\n",
       "                                       25%                  50%  \\\n",
       "num_seats_total                       1.00                 2.00   \n",
       "mean_net_ticket_price               108.87               186.28   \n",
       "dept_date              2018-11-05 00:00:00  2019-02-21 00:00:00   \n",
       "purchase_date          2018-09-07 00:00:00  2018-12-19 00:00:00   \n",
       "train                                  NaN                  NaN   \n",
       "cumulative_sales                      3.00                 8.00   \n",
       "isnormcabin                           0.00                 1.00   \n",
       "isreturn                              0.00                 0.00   \n",
       "isoneway                              0.00                 0.00   \n",
       "customer_cat                           NaN                  NaN   \n",
       "\n",
       "                                       75%                  max    std  \n",
       "num_seats_total                       3.00                66.00   2.08  \n",
       "mean_net_ticket_price               350.41              7855.77 147.02  \n",
       "dept_date              2019-05-27 00:00:00  2020-06-13 00:00:00    NaN  \n",
       "purchase_date          2019-04-02 00:00:00  2019-06-30 00:00:00    NaN  \n",
       "train                                  NaN                  NaN    NaN  \n",
       "cumulative_sales                     21.00               187.00  19.80  \n",
       "isnormcabin                           1.00                 1.00   0.49  \n",
       "isreturn                              1.00                 1.00   0.50  \n",
       "isoneway                              0.00                 1.00   0.33  \n",
       "customer_cat                           NaN                  NaN    NaN  "
      ]
     },
     "execution_count": 3,
     "metadata": {},
     "output_type": "execute_result"
    }
   ],
   "source": [
    "# Set all floats to display only 2 decimal points\n",
    "pd.set_option('display.float_format', lambda x: '%.2f' % x)\n",
    "\n",
    "# Print numerical summary, including text and date features for completeness\n",
    "df.describe(include = 'all', datetime_is_numeric=True).transpose()"
   ]
  },
  {
   "cell_type": "markdown",
   "id": "ac840bc5",
   "metadata": {},
   "source": [
    "### 1.2 Outlier Analysis & Removal <a id=\"section1.2\"></a>"
   ]
  },
  {
   "cell_type": "markdown",
   "id": "9956af21",
   "metadata": {},
   "source": [
    "From inspecting the data summary above, it can be seen that there may be outlier issues in num_seats_total as well as mean_net_ticket_price. \n",
    "\n",
    "The box plots below confirm this. "
   ]
  },
  {
   "cell_type": "code",
   "execution_count": 4,
   "id": "edc8289d",
   "metadata": {},
   "outputs": [],
   "source": [
    "def outlier_check(var, df_name):\n",
    "    sns.boxplot(x = df_name[var])\n",
    "    print('Variable: ', var) \n",
    "    print('Minimum value: ', df_name[var].min())\n",
    "    print('10th percentile: ', df_name[var].quantile(0.1))\n",
    "    print('90th percentile: ', df_name[var].quantile(0.90))\n",
    "    print('95th percentile: ', df_name[var].quantile(0.95))\n",
    "    print('97th percentile: ', df_name[var].quantile(0.97))\n",
    "    print('Maximum value: ', df_name[var].max())"
   ]
  },
  {
   "cell_type": "code",
   "execution_count": 5,
   "id": "7c1d1e13",
   "metadata": {},
   "outputs": [
    {
     "name": "stdout",
     "output_type": "stream",
     "text": [
      "Summary Statistics Before Treatment\n",
      "Variable:  num_seats_total\n",
      "Minimum value:  1\n",
      "10th percentile:  1.0\n",
      "90th percentile:  5.0\n",
      "95th percentile:  6.0\n",
      "97th percentile:  8.0\n",
      "Maximum value:  66\n"
     ]
    },
    {
     "data": {
      "image/png": "[encoded data removed]",
      "text/plain": [
       "<Figure size 432x288 with 1 Axes>"
      ]
     },
     "metadata": {
      "needs_background": "light"
     },
     "output_type": "display_data"
    }
   ],
   "source": [
    "print(\"Summary Statistics Before Treatment\")\n",
    "outlier_check('num_seats_total', df)"
   ]
  },
  {
   "cell_type": "code",
   "execution_count": 6,
   "id": "32b4bac5",
   "metadata": {
    "scrolled": false
   },
   "outputs": [
    {
     "name": "stdout",
     "output_type": "stream",
     "text": [
      "Summary Statistics Before Treatment\n",
      "Variable:  mean_net_ticket_price\n",
      "Minimum value:  1.278969082\n",
      "10th percentile:  90.750834978\n",
      "90th percentile:  428.08725202\n",
      "95th percentile:  513.4909683599999\n",
      "97th percentile:  577.680626356\n",
      "Maximum value:  7855.766106\n"
     ]
    },
    {
     "data": {
      "image/png": "[encoded data removed]",
      "text/plain": [
       "<Figure size 432x288 with 1 Axes>"
      ]
     },
     "metadata": {
      "needs_background": "light"
     },
     "output_type": "display_data"
    }
   ],
   "source": [
    "print(\"Summary Statistics Before Treatment\")\n",
    "outlier_check('mean_net_ticket_price', df)"
   ]
  },
  {
   "cell_type": "markdown",
   "id": "5e3bc569",
   "metadata": {},
   "source": [
    "<b> Dropping Outliers </b>\n",
    "\n",
    "In this analysis, outliers are dropped rather than capped because they are likely to be either errors or transactions so infrequent that they do not reflect typical buying behavior. For example, the maximum mean_ticket_price was \\$7855 and for this price, it is likely that the individual should have considered an airline instead.  \n",
    "\n",
    "Here, the <b> 97th percentile</b> is used as a cutoff to use for dropping outliers. "
   ]
  },
  {
   "cell_type": "code",
   "execution_count": 7,
   "id": "7d4f0746",
   "metadata": {},
   "outputs": [],
   "source": [
    "# Custom function to treat outliers\n",
    "def outlier_treatment(var, df_name, min_treat, max_treat, min_quantile = 0.05, max_quantile = 0.95):\n",
    "    min = df_name[var].quantile(min_quantile)\n",
    "    max = df_name[var].quantile(max_quantile)\n",
    "    if min_treat == 1:\n",
    "        df_name.loc[df_name[var] <= min, var] =  np.nan\n",
    "    if max_treat == 1:\n",
    "        df_name.loc[df_name[var] >= max, var] =  np.nan\n",
    "    df_name.dropna(inplace = True)\n",
    "    \n",
    "    return df_name[[var]].describe().transpose()"
   ]
  },
  {
   "cell_type": "code",
   "execution_count": 8,
   "id": "a97f5f7f",
   "metadata": {},
   "outputs": [
    {
     "name": "stdout",
     "output_type": "stream",
     "text": [
      "Summary Statistics After Treatment\n",
      "Variable:  num_seats_total\n",
      "Minimum value:  1.0\n",
      "10th percentile:  1.0\n",
      "90th percentile:  4.0\n",
      "95th percentile:  5.0\n",
      "97th percentile:  6.0\n",
      "Maximum value:  7.0\n"
     ]
    },
    {
     "data": {
      "image/png": "[encoded data removed]",
      "text/plain": [
       "<Figure size 432x288 with 1 Axes>"
      ]
     },
     "metadata": {
      "needs_background": "light"
     },
     "output_type": "display_data"
    }
   ],
   "source": [
    "# Apply outlier treatment to num_seats_total\n",
    "outlier_treatment(var = 'num_seats_total', df_name = df, min_treat = 0, max_treat = 1, max_quantile = 0.97)\n",
    "\n",
    "print(\"Summary Statistics After Treatment\")\n",
    "outlier_check('num_seats_total', df)"
   ]
  },
  {
   "cell_type": "code",
   "execution_count": 9,
   "id": "07c4185f",
   "metadata": {},
   "outputs": [
    {
     "name": "stdout",
     "output_type": "stream",
     "text": [
      "Summary Statistics After Treatment\n",
      "Variable:  mean_net_ticket_price\n",
      "Minimum value:  1.278969082\n",
      "10th percentile:  90.845755326\n",
      "90th percentile:  400.7971242600003\n",
      "95th percentile:  464.25227714\n",
      "97th percentile:  473.917419184\n",
      "Maximum value:  579.060649\n"
     ]
    },
    {
     "data": {
      "image/png": "[encoded data removed]",
      "text/plain": [
       "<Figure size 432x288 with 1 Axes>"
      ]
     },
     "metadata": {
      "needs_background": "light"
     },
     "output_type": "display_data"
    }
   ],
   "source": [
    "# Apply outlier treatment to mean_net_ticket_price\n",
    "outlier_treatment(var = 'mean_net_ticket_price', df_name = df, min_treat = 0, max_treat = 1, max_quantile = 0.97)\n",
    "\n",
    "print(\"Summary Statistics After Treatment\")\n",
    "outlier_check('mean_net_ticket_price', df)"
   ]
  },
  {
   "cell_type": "markdown",
   "id": "Wp9TeBh4cNBn",
   "metadata": {
    "id": "Wp9TeBh4cNBn"
   },
   "source": [
    "### 1.3. Feature Engineering <a id=\"section1.3\"></a>"
   ]
  },
  {
   "cell_type": "markdown",
   "id": "9517a54e",
   "metadata": {},
   "source": [
    "Besides the features given, these other features are hypothesized to be useful:\n",
    "- *buy_lead_time*: How far in advance the ticket was purchased relative to departure date (dept_date - purchase_date)\n",
    "- *dept_dayofweek*: Monday is day 1 and so forth until Sunday (day 7)\n",
    "- *dept_month*: Month of departure"
   ]
  },
  {
   "cell_type": "code",
   "execution_count": 10,
   "id": "cce5af03",
   "metadata": {},
   "outputs": [
    {
     "data": {
      "text/html": [
       "<div>\n",
       "<style scoped>\n",
       "    .dataframe tbody tr th:only-of-type {\n",
       "        vertical-align: middle;\n",
       "    }\n",
       "\n",
       "    .dataframe tbody tr th {\n",
       "        vertical-align: top;\n",
       "    }\n",
       "\n",
       "    .dataframe thead th {\n",
       "        text-align: right;\n",
       "    }\n",
       "</style>\n",
       "<table border=\"1\" class=\"dataframe\">\n",
       "  <thead>\n",
       "    <tr style=\"text-align: right;\">\n",
       "      <th></th>\n",
       "      <th>num_seats_total</th>\n",
       "      <th>mean_net_ticket_price</th>\n",
       "      <th>dept_date</th>\n",
       "      <th>purchase_date</th>\n",
       "      <th>train</th>\n",
       "      <th>cumulative_sales</th>\n",
       "      <th>isnormcabin</th>\n",
       "      <th>isreturn</th>\n",
       "      <th>isoneway</th>\n",
       "      <th>customer_cat</th>\n",
       "      <th>buy_lead_time</th>\n",
       "      <th>dept_dayofweek</th>\n",
       "      <th>dept_monthnum</th>\n",
       "    </tr>\n",
       "  </thead>\n",
       "  <tbody>\n",
       "    <tr>\n",
       "      <th>0</th>\n",
       "      <td>1.00</td>\n",
       "      <td>188.66</td>\n",
       "      <td>2019-10-09</td>\n",
       "      <td>2018-10-10</td>\n",
       "      <td>A</td>\n",
       "      <td>1</td>\n",
       "      <td>1</td>\n",
       "      <td>0</td>\n",
       "      <td>0</td>\n",
       "      <td>A</td>\n",
       "      <td>364.00</td>\n",
       "      <td>3</td>\n",
       "      <td>10</td>\n",
       "    </tr>\n",
       "    <tr>\n",
       "      <th>1</th>\n",
       "      <td>1.00</td>\n",
       "      <td>358.43</td>\n",
       "      <td>2019-05-27</td>\n",
       "      <td>2018-06-06</td>\n",
       "      <td>B</td>\n",
       "      <td>1</td>\n",
       "      <td>0</td>\n",
       "      <td>1</td>\n",
       "      <td>0</td>\n",
       "      <td>A</td>\n",
       "      <td>355.00</td>\n",
       "      <td>1</td>\n",
       "      <td>5</td>\n",
       "    </tr>\n",
       "    <tr>\n",
       "      <th>2</th>\n",
       "      <td>1.00</td>\n",
       "      <td>356.37</td>\n",
       "      <td>2020-05-31</td>\n",
       "      <td>2019-06-17</td>\n",
       "      <td>B</td>\n",
       "      <td>1</td>\n",
       "      <td>0</td>\n",
       "      <td>1</td>\n",
       "      <td>0</td>\n",
       "      <td>A</td>\n",
       "      <td>349.00</td>\n",
       "      <td>7</td>\n",
       "      <td>5</td>\n",
       "    </tr>\n",
       "    <tr>\n",
       "      <th>3</th>\n",
       "      <td>1.00</td>\n",
       "      <td>396.37</td>\n",
       "      <td>2019-12-10</td>\n",
       "      <td>2018-12-27</td>\n",
       "      <td>C</td>\n",
       "      <td>1</td>\n",
       "      <td>0</td>\n",
       "      <td>1</td>\n",
       "      <td>0</td>\n",
       "      <td>A</td>\n",
       "      <td>348.00</td>\n",
       "      <td>2</td>\n",
       "      <td>12</td>\n",
       "    </tr>\n",
       "    <tr>\n",
       "      <th>4</th>\n",
       "      <td>1.00</td>\n",
       "      <td>364.26</td>\n",
       "      <td>2020-05-31</td>\n",
       "      <td>2019-06-19</td>\n",
       "      <td>B</td>\n",
       "      <td>2</td>\n",
       "      <td>0</td>\n",
       "      <td>1</td>\n",
       "      <td>0</td>\n",
       "      <td>A</td>\n",
       "      <td>347.00</td>\n",
       "      <td>7</td>\n",
       "      <td>5</td>\n",
       "    </tr>\n",
       "  </tbody>\n",
       "</table>\n",
       "</div>"
      ],
      "text/plain": [
       "   num_seats_total  mean_net_ticket_price  dept_date purchase_date train  \\\n",
       "0             1.00                 188.66 2019-10-09    2018-10-10     A   \n",
       "1             1.00                 358.43 2019-05-27    2018-06-06     B   \n",
       "2             1.00                 356.37 2020-05-31    2019-06-17     B   \n",
       "3             1.00                 396.37 2019-12-10    2018-12-27     C   \n",
       "4             1.00                 364.26 2020-05-31    2019-06-19     B   \n",
       "\n",
       "   cumulative_sales  isnormcabin  isreturn  isoneway customer_cat  \\\n",
       "0                 1            1         0         0            A   \n",
       "1                 1            0         1         0            A   \n",
       "2                 1            0         1         0            A   \n",
       "3                 1            0         1         0            A   \n",
       "4                 2            0         1         0            A   \n",
       "\n",
       "   buy_lead_time  dept_dayofweek  dept_monthnum  \n",
       "0         364.00               3             10  \n",
       "1         355.00               1              5  \n",
       "2         349.00               7              5  \n",
       "3         348.00               2             12  \n",
       "4         347.00               7              5  "
      ]
     },
     "execution_count": 10,
     "metadata": {},
     "output_type": "execute_result"
    }
   ],
   "source": [
    "# buy_lead_time\n",
    "df['buy_lead_time']=df['dept_date']-df['purchase_date']\n",
    "df['buy_lead_time']=df['buy_lead_time'].astype('timedelta64[D]')\n",
    "\n",
    "# dept_isweekend was tried but proved less useful than the raw dayofweek\n",
    "#df['dept_isweekend']=(df.dept_date).dt.weekday+1 # added 1 to ensure 1 corresponds to Monday\n",
    "#df['dept_isweekend'].replace([1,2,3,4,5],0,inplace = True)\n",
    "#df['dept_isweekend'].replace([6,7],1,inplace = True)\n",
    "\n",
    "# dept_dayofweek\n",
    "df['dept_dayofweek']=(df.dept_date).dt.weekday+1\n",
    "\n",
    "# dept_month\n",
    "df['dept_monthnum']=(df.dept_date).dt.month\n",
    "\n",
    "df.head()"
   ]
  },
  {
   "cell_type": "markdown",
   "id": "c11d839b",
   "metadata": {},
   "source": [
    "### 1.4 Dataset at Daily Granularity <a id=\"section1.4\"></a>"
   ]
  },
  {
   "cell_type": "markdown",
   "id": "498a960a",
   "metadata": {},
   "source": [
    "With outliers removed, the dataset now consists of 197,233 transactions."
   ]
  },
  {
   "cell_type": "code",
   "execution_count": 11,
   "id": "7567efe0",
   "metadata": {},
   "outputs": [
    {
     "data": {
      "text/html": [
       "<div>\n",
       "<style scoped>\n",
       "    .dataframe tbody tr th:only-of-type {\n",
       "        vertical-align: middle;\n",
       "    }\n",
       "\n",
       "    .dataframe tbody tr th {\n",
       "        vertical-align: top;\n",
       "    }\n",
       "\n",
       "    .dataframe thead th {\n",
       "        text-align: right;\n",
       "    }\n",
       "</style>\n",
       "<table border=\"1\" class=\"dataframe\">\n",
       "  <thead>\n",
       "    <tr style=\"text-align: right;\">\n",
       "      <th></th>\n",
       "      <th>count</th>\n",
       "      <th>unique</th>\n",
       "      <th>top</th>\n",
       "      <th>freq</th>\n",
       "      <th>mean</th>\n",
       "      <th>min</th>\n",
       "      <th>25%</th>\n",
       "      <th>50%</th>\n",
       "      <th>75%</th>\n",
       "      <th>max</th>\n",
       "      <th>std</th>\n",
       "    </tr>\n",
       "  </thead>\n",
       "  <tbody>\n",
       "    <tr>\n",
       "      <th>num_seats_total</th>\n",
       "      <td>197233.00</td>\n",
       "      <td>NaN</td>\n",
       "      <td>NaN</td>\n",
       "      <td>NaN</td>\n",
       "      <td>2.15</td>\n",
       "      <td>1.00</td>\n",
       "      <td>1.00</td>\n",
       "      <td>2.00</td>\n",
       "      <td>3.00</td>\n",
       "      <td>7.00</td>\n",
       "      <td>1.46</td>\n",
       "    </tr>\n",
       "    <tr>\n",
       "      <th>mean_net_ticket_price</th>\n",
       "      <td>197233.00</td>\n",
       "      <td>NaN</td>\n",
       "      <td>NaN</td>\n",
       "      <td>NaN</td>\n",
       "      <td>219.22</td>\n",
       "      <td>1.28</td>\n",
       "      <td>108.67</td>\n",
       "      <td>185.59</td>\n",
       "      <td>333.68</td>\n",
       "      <td>579.06</td>\n",
       "      <td>128.01</td>\n",
       "    </tr>\n",
       "    <tr>\n",
       "      <th>dept_date</th>\n",
       "      <td>197233</td>\n",
       "      <td>NaN</td>\n",
       "      <td>NaN</td>\n",
       "      <td>NaN</td>\n",
       "      <td>2019-02-19 22:20:56.394214144</td>\n",
       "      <td>2018-06-01 00:00:00</td>\n",
       "      <td>2018-11-04 00:00:00</td>\n",
       "      <td>2019-02-21 00:00:00</td>\n",
       "      <td>2019-05-27 00:00:00</td>\n",
       "      <td>2020-06-13 00:00:00</td>\n",
       "      <td>NaN</td>\n",
       "    </tr>\n",
       "    <tr>\n",
       "      <th>purchase_date</th>\n",
       "      <td>197233</td>\n",
       "      <td>NaN</td>\n",
       "      <td>NaN</td>\n",
       "      <td>NaN</td>\n",
       "      <td>2018-12-18 00:51:51.982275072</td>\n",
       "      <td>2018-06-01 00:00:00</td>\n",
       "      <td>2018-09-07 00:00:00</td>\n",
       "      <td>2018-12-18 00:00:00</td>\n",
       "      <td>2019-04-02 00:00:00</td>\n",
       "      <td>2019-06-30 00:00:00</td>\n",
       "      <td>NaN</td>\n",
       "    </tr>\n",
       "    <tr>\n",
       "      <th>train</th>\n",
       "      <td>197233</td>\n",
       "      <td>14</td>\n",
       "      <td>B</td>\n",
       "      <td>24897</td>\n",
       "      <td>NaN</td>\n",
       "      <td>NaN</td>\n",
       "      <td>NaN</td>\n",
       "      <td>NaN</td>\n",
       "      <td>NaN</td>\n",
       "      <td>NaN</td>\n",
       "      <td>NaN</td>\n",
       "    </tr>\n",
       "    <tr>\n",
       "      <th>cumulative_sales</th>\n",
       "      <td>197233.00</td>\n",
       "      <td>NaN</td>\n",
       "      <td>NaN</td>\n",
       "      <td>NaN</td>\n",
       "      <td>15.54</td>\n",
       "      <td>1.00</td>\n",
       "      <td>3.00</td>\n",
       "      <td>8.00</td>\n",
       "      <td>21.00</td>\n",
       "      <td>187.00</td>\n",
       "      <td>19.34</td>\n",
       "    </tr>\n",
       "    <tr>\n",
       "      <th>isnormcabin</th>\n",
       "      <td>197233.00</td>\n",
       "      <td>NaN</td>\n",
       "      <td>NaN</td>\n",
       "      <td>NaN</td>\n",
       "      <td>0.61</td>\n",
       "      <td>0.00</td>\n",
       "      <td>0.00</td>\n",
       "      <td>1.00</td>\n",
       "      <td>1.00</td>\n",
       "      <td>1.00</td>\n",
       "      <td>0.49</td>\n",
       "    </tr>\n",
       "    <tr>\n",
       "      <th>isreturn</th>\n",
       "      <td>197233.00</td>\n",
       "      <td>NaN</td>\n",
       "      <td>NaN</td>\n",
       "      <td>NaN</td>\n",
       "      <td>0.48</td>\n",
       "      <td>0.00</td>\n",
       "      <td>0.00</td>\n",
       "      <td>0.00</td>\n",
       "      <td>1.00</td>\n",
       "      <td>1.00</td>\n",
       "      <td>0.50</td>\n",
       "    </tr>\n",
       "    <tr>\n",
       "      <th>isoneway</th>\n",
       "      <td>197233.00</td>\n",
       "      <td>NaN</td>\n",
       "      <td>NaN</td>\n",
       "      <td>NaN</td>\n",
       "      <td>0.12</td>\n",
       "      <td>0.00</td>\n",
       "      <td>0.00</td>\n",
       "      <td>0.00</td>\n",
       "      <td>0.00</td>\n",
       "      <td>1.00</td>\n",
       "      <td>0.32</td>\n",
       "    </tr>\n",
       "    <tr>\n",
       "      <th>customer_cat</th>\n",
       "      <td>197233</td>\n",
       "      <td>2</td>\n",
       "      <td>B</td>\n",
       "      <td>153610</td>\n",
       "      <td>NaN</td>\n",
       "      <td>NaN</td>\n",
       "      <td>NaN</td>\n",
       "      <td>NaN</td>\n",
       "      <td>NaN</td>\n",
       "      <td>NaN</td>\n",
       "      <td>NaN</td>\n",
       "    </tr>\n",
       "    <tr>\n",
       "      <th>buy_lead_time</th>\n",
       "      <td>197233.00</td>\n",
       "      <td>NaN</td>\n",
       "      <td>NaN</td>\n",
       "      <td>NaN</td>\n",
       "      <td>63.90</td>\n",
       "      <td>0.00</td>\n",
       "      <td>16.00</td>\n",
       "      <td>41.00</td>\n",
       "      <td>92.00</td>\n",
       "      <td>364.00</td>\n",
       "      <td>64.79</td>\n",
       "    </tr>\n",
       "    <tr>\n",
       "      <th>dept_dayofweek</th>\n",
       "      <td>197233.00</td>\n",
       "      <td>NaN</td>\n",
       "      <td>NaN</td>\n",
       "      <td>NaN</td>\n",
       "      <td>4.03</td>\n",
       "      <td>1.00</td>\n",
       "      <td>2.00</td>\n",
       "      <td>4.00</td>\n",
       "      <td>6.00</td>\n",
       "      <td>7.00</td>\n",
       "      <td>1.99</td>\n",
       "    </tr>\n",
       "    <tr>\n",
       "      <th>dept_monthnum</th>\n",
       "      <td>197233.00</td>\n",
       "      <td>NaN</td>\n",
       "      <td>NaN</td>\n",
       "      <td>NaN</td>\n",
       "      <td>6.71</td>\n",
       "      <td>1.00</td>\n",
       "      <td>4.00</td>\n",
       "      <td>7.00</td>\n",
       "      <td>10.00</td>\n",
       "      <td>12.00</td>\n",
       "      <td>3.45</td>\n",
       "    </tr>\n",
       "  </tbody>\n",
       "</table>\n",
       "</div>"
      ],
      "text/plain": [
       "                          count unique  top    freq  \\\n",
       "num_seats_total       197233.00    NaN  NaN     NaN   \n",
       "mean_net_ticket_price 197233.00    NaN  NaN     NaN   \n",
       "dept_date                197233    NaN  NaN     NaN   \n",
       "purchase_date            197233    NaN  NaN     NaN   \n",
       "train                    197233     14    B   24897   \n",
       "cumulative_sales      197233.00    NaN  NaN     NaN   \n",
       "isnormcabin           197233.00    NaN  NaN     NaN   \n",
       "isreturn              197233.00    NaN  NaN     NaN   \n",
       "isoneway              197233.00    NaN  NaN     NaN   \n",
       "customer_cat             197233      2    B  153610   \n",
       "buy_lead_time         197233.00    NaN  NaN     NaN   \n",
       "dept_dayofweek        197233.00    NaN  NaN     NaN   \n",
       "dept_monthnum         197233.00    NaN  NaN     NaN   \n",
       "\n",
       "                                                mean                  min  \\\n",
       "num_seats_total                                 2.15                 1.00   \n",
       "mean_net_ticket_price                         219.22                 1.28   \n",
       "dept_date              2019-02-19 22:20:56.394214144  2018-06-01 00:00:00   \n",
       "purchase_date          2018-12-18 00:51:51.982275072  2018-06-01 00:00:00   \n",
       "train                                            NaN                  NaN   \n",
       "cumulative_sales                               15.54                 1.00   \n",
       "isnormcabin                                     0.61                 0.00   \n",
       "isreturn                                        0.48                 0.00   \n",
       "isoneway                                        0.12                 0.00   \n",
       "customer_cat                                     NaN                  NaN   \n",
       "buy_lead_time                                  63.90                 0.00   \n",
       "dept_dayofweek                                  4.03                 1.00   \n",
       "dept_monthnum                                   6.71                 1.00   \n",
       "\n",
       "                                       25%                  50%  \\\n",
       "num_seats_total                       1.00                 2.00   \n",
       "mean_net_ticket_price               108.67               185.59   \n",
       "dept_date              2018-11-04 00:00:00  2019-02-21 00:00:00   \n",
       "purchase_date          2018-09-07 00:00:00  2018-12-18 00:00:00   \n",
       "train                                  NaN                  NaN   \n",
       "cumulative_sales                      3.00                 8.00   \n",
       "isnormcabin                           0.00                 1.00   \n",
       "isreturn                              0.00                 0.00   \n",
       "isoneway                              0.00                 0.00   \n",
       "customer_cat                           NaN                  NaN   \n",
       "buy_lead_time                        16.00                41.00   \n",
       "dept_dayofweek                        2.00                 4.00   \n",
       "dept_monthnum                         4.00                 7.00   \n",
       "\n",
       "                                       75%                  max    std  \n",
       "num_seats_total                       3.00                 7.00   1.46  \n",
       "mean_net_ticket_price               333.68               579.06 128.01  \n",
       "dept_date              2019-05-27 00:00:00  2020-06-13 00:00:00    NaN  \n",
       "purchase_date          2019-04-02 00:00:00  2019-06-30 00:00:00    NaN  \n",
       "train                                  NaN                  NaN    NaN  \n",
       "cumulative_sales                     21.00               187.00  19.34  \n",
       "isnormcabin                           1.00                 1.00   0.49  \n",
       "isreturn                              1.00                 1.00   0.50  \n",
       "isoneway                              0.00                 1.00   0.32  \n",
       "customer_cat                           NaN                  NaN    NaN  \n",
       "buy_lead_time                        92.00               364.00  64.79  \n",
       "dept_dayofweek                        6.00                 7.00   1.99  \n",
       "dept_monthnum                        10.00                12.00   3.45  "
      ]
     },
     "execution_count": 11,
     "metadata": {},
     "output_type": "execute_result"
    }
   ],
   "source": [
    "# Print numerical summary, including text and date features for completeness\n",
    "df.describe(include = 'all', datetime_is_numeric=True).transpose()"
   ]
  },
  {
   "cell_type": "markdown",
   "id": "aEcY0fHVcNBr",
   "metadata": {
    "id": "aEcY0fHVcNBr"
   },
   "source": [
    "## 2. Exploratory Data Analysis on Raw Data <a id=\"section2\"></a>"
   ]
  },
  {
   "cell_type": "markdown",
   "id": "_TkPCHKMcNBr",
   "metadata": {
    "id": "_TkPCHKMcNBr"
   },
   "source": [
    "### 2.1 Analysing Overall Variable Correlations <a id=\"section2.1\"></a>"
   ]
  },
  {
   "cell_type": "markdown",
   "id": "dff01bef",
   "metadata": {},
   "source": [
    "It can already be seen that there are some interesting (and sensible) correlations with demand (*num_seats_total*):\n",
    "- As price (*mean_net_ticket_price*) increases, demand for seats (*num_seats_total*) decreases\n",
    "- Demand is higher for normal cabins (*isnormcabin*) than for premium ones\n",
    "- Trip features (*isreturn, isoneway*) do not seem to influence demand\n",
    "\n",
    "It can also be seen that some variables have strong correlations with price (*mean_net_ticket_price*):\n",
    "- Normal cabins (*isnormcabin*) are cheaper than premium cabins\n",
    "- Buying a trip in advance (*buy_lead_time*) is also associated with a reduction in price\n",
    "- Buying a one-way trip (*isoneway* = 1) is more expensive"
   ]
  },
  {
   "cell_type": "code",
   "execution_count": 12,
   "id": "IBIpYOv5cNBr",
   "metadata": {
    "colab": {
     "base_uri": "https://localhost:8080/",
     "height": 520
    },
    "executionInfo": {
     "elapsed": 1653,
     "status": "ok",
     "timestamp": 1632662683613,
     "user": {
      "displayName": "Gino Martelli Tiu",
      "photoUrl": "https://lh3.googleusercontent.com/a-/AOh14Gg2q1xwieHsHb9W2hnBOpuRZ_iFMqZet4sgzL_8lw=s64",
      "userId": "06458995509664775333"
     },
     "user_tz": -480
    },
    "id": "IBIpYOv5cNBr",
    "outputId": "ac1ec63f-f515-4856-d59b-a90c9bcf2261",
    "scrolled": false
   },
   "outputs": [
    {
     "data": {
      "image/png": "[encoded data removed]",
      "text/plain": [
       "<Figure size 720x432 with 2 Axes>"
      ]
     },
     "metadata": {
      "needs_background": "light"
     },
     "output_type": "display_data"
    }
   ],
   "source": [
    "plt.figure(figsize=(10, 6))\n",
    "\n",
    "# Remove categorical columns\n",
    "cols = df.columns.tolist()\n",
    "corr_cols = [e for e in cols if e not in ('dept_monthnum', 'dept_dayofweek', 'cumulative_sales')]\n",
    "\n",
    "corr_matrix = df[corr_cols].corr()\n",
    "mask = np.triu(np.ones_like(df[corr_cols].corr(), dtype=bool))\n",
    "sns.heatmap(data= corr_matrix, mask = mask, cmap='seismic', vmax = 1, vmin=-1, annot=True, fmt='0.2f')\n",
    "plt.title('Pearson Correlation Matrix', fontsize = 20)\n",
    "plt.show()"
   ]
  },
  {
   "cell_type": "markdown",
   "id": "2d1172a6",
   "metadata": {},
   "source": [
    "### 2.2 Analysing Drivers of Ticket Demand <a id=\"section2.2\"></a>"
   ]
  },
  {
   "cell_type": "markdown",
   "id": "295a04b9",
   "metadata": {},
   "source": [
    "Besides the correlations noted above, cabin type ticket demand (*num_seats_total*) should vary by day of the week and train type as well. These are demonstrated below. \n",
    "\n",
    "<b> Day of Week & Ticket Demand </b>\n",
    "\n",
    "Overall, the most tickets are sold for Friday and Sunday which makes sense as presumably commuters head out from the city to the suburbs / country for the weekend on Friday, and then head back on Sunday."
   ]
  },
  {
   "cell_type": "code",
   "execution_count": 13,
   "id": "b2c36bde",
   "metadata": {},
   "outputs": [
    {
     "data": {
      "image/png": "[encoded data removed]",
      "text/plain": [
       "<Figure size 432x288 with 1 Axes>"
      ]
     },
     "metadata": {
      "needs_background": "light"
     },
     "output_type": "display_data"
    }
   ],
   "source": [
    "g = sns.barplot(x = 'dept_dayofweek', y= 'num_seats_total', data = df, estimator=sum)\n",
    "g.set(xticklabels=['Mon', 'Tue', 'Wed', 'Thu', 'Fri', 'Sat', 'Sun'])\n",
    "plt.title('Total Demand by Day of Week', fontsize = 15)\n",
    "plt.show()"
   ]
  },
  {
   "cell_type": "markdown",
   "id": "b580aa05",
   "metadata": {},
   "source": [
    "<b> Train ID & Ticket Demand </b>\n",
    "\n",
    "There are marked differences in usage of each train, with B and E having the highest demand and N having the lowest. This suggest that this variable is very imporatant for the model."
   ]
  },
  {
   "cell_type": "code",
   "execution_count": 14,
   "id": "26c5d22d",
   "metadata": {},
   "outputs": [
    {
     "data": {
      "image/png": "[encoded data removed]",
      "text/plain": [
       "<Figure size 432x288 with 1 Axes>"
      ]
     },
     "metadata": {
      "needs_background": "light"
     },
     "output_type": "display_data"
    }
   ],
   "source": [
    "g_month = sns.barplot(x = 'train', y= 'num_seats_total', data = df, estimator=sum)\n",
    "plt.title('Total Demand by Train ID')\n",
    "plt.show()"
   ]
  },
  {
   "cell_type": "markdown",
   "id": "157244ef",
   "metadata": {},
   "source": [
    "### 2.3 Analysing Drivers of Ticket Price <a id=\"section2.3\"></a>"
   ]
  },
  {
   "cell_type": "markdown",
   "id": "93f4764c",
   "metadata": {},
   "source": [
    "Although price is just one independent variable in the demand equation, as an endogenous variable (to be shown in *02_Demand_Modelling_with_2SLS.ipynb*), the price equation will also be modeled and used to cleanse the demand equation of endogeneity. Hence, it is worth spending some time to understand the key drivers of price. "
   ]
  },
  {
   "cell_type": "markdown",
   "id": "9dce665e",
   "metadata": {},
   "source": [
    "<b> Cabin Type, Customer Type & Ticket Price </b>\n",
    "\n",
    "Diving deeper into correlations with price (*mean_net_ticket_price*), it can be seen that:\n",
    "- Normal cabins (*isnormcabin* = 1) are cheaper than premium cabins (*isnormcabin* = 0) \n",
    "- Customers in category B pay significantly less for their tickets compared to those in A. This suggests that category B may be a super saver pass of sorts. "
   ]
  },
  {
   "cell_type": "code",
   "execution_count": 15,
   "id": "7060cb03",
   "metadata": {
    "scrolled": false
   },
   "outputs": [
    {
     "data": {
      "image/png": "[encoded data removed]",
      "text/plain": [
       "<Figure size 1080x360 with 2 Axes>"
      ]
     },
     "metadata": {
      "needs_background": "light"
     },
     "output_type": "display_data"
    }
   ],
   "source": [
    "fig = plt.figure(figsize=[15,5])\n",
    "\n",
    "features = ['isnormcabin', 'customer_cat']\n",
    "\n",
    "for i in range(len(features)):    \n",
    "    fig.add_subplot(1, 3, i+1)\n",
    "    ax = sns.histplot(data=df,x=df['mean_net_ticket_price'], hue = features[i], kde = True)\n",
    "    ax.title.set_text('Mean Ticket Price Split by {}'.format(features[i]))\n",
    "    ax.legend_.set_bbox_to_anchor((0.7, 0.95))\n",
    "    ax.legend_._set_loc(2)\n",
    "    sns.despine()\n",
    "\n",
    "plt.tight_layout()\n",
    "plt.show()"
   ]
  },
  {
   "cell_type": "markdown",
   "id": "fdf90edf",
   "metadata": {},
   "source": [
    "<b> Advance Purchase & Ticket Price </b>\n",
    "\n",
    "As observed in the initial correlation matrix in section 2.1, buying a trip in advance (buy_lead_time) is also associated with a reduction in price. It can also be seen that there is a long tail trend here, where the price increase associated with the initial 50 days is very steep and tapers off quickly for all subsequent time periods. \n",
    "\n",
    "*Note that graph has been truncated at the 250th day (97th percentile) as not all train/ticket combinations are available for purchase so far in advance, leading to skewed averages.*"
   ]
  },
  {
   "cell_type": "code",
   "execution_count": 16,
   "id": "a81e4acb",
   "metadata": {
    "scrolled": false
   },
   "outputs": [
    {
     "data": {
      "image/png": "[encoded data removed]",
      "text/plain": [
       "<Figure size 1080x504 with 1 Axes>"
      ]
     },
     "metadata": {
      "needs_background": "light"
     },
     "output_type": "display_data"
    }
   ],
   "source": [
    "plt.figure(figsize=(15,7))\n",
    "sns.lineplot(data = df, x='buy_lead_time', y='mean_net_ticket_price')\n",
    "plt.title('Mean Ticket Price vs Advanced Purchase (buy_lead_time)', fontsize = 20)\n",
    "plt.xlim(0,250)\n",
    "plt.show()"
   ]
  },
  {
   "cell_type": "markdown",
   "id": "6e4d0ff7",
   "metadata": {},
   "source": [
    "## 3. Aggregate & Transform Data for Modeling <a id=\"section3\"></a>"
   ]
  },
  {
   "cell_type": "markdown",
   "id": "ed09d585",
   "metadata": {},
   "source": [
    "### 3.1 Drop Redundant Columns <a id=\"section3.1\"></a>"
   ]
  },
  {
   "cell_type": "markdown",
   "id": "ad7b40c6",
   "metadata": {},
   "source": [
    "Following EDA and feature creation, columns that are not needed for demand modelling are dropped. These are:\n",
    "- *cumulative_sales*: This itself is an aggregated measure and is not useful for modelling.\n",
    "- *purchase_date*: This is already captured in buy_lead_time.\n",
    "- *dept_date*: This can be analysed at a higher level of detail (weekend vs weekday) to provide a clearer trend for analysis."
   ]
  },
  {
   "cell_type": "code",
   "execution_count": 17,
   "id": "bec2e4e6",
   "metadata": {},
   "outputs": [],
   "source": [
    "agg_df = df.copy()\n",
    "\n",
    "# Drop columns not needed\n",
    "cols = ['cumulative_sales','dept_date','purchase_date']\n",
    "agg_df.drop(cols, axis = 1, inplace = True)"
   ]
  },
  {
   "cell_type": "code",
   "execution_count": 18,
   "id": "1854499c",
   "metadata": {},
   "outputs": [
    {
     "data": {
      "text/html": [
       "<div>\n",
       "<style scoped>\n",
       "    .dataframe tbody tr th:only-of-type {\n",
       "        vertical-align: middle;\n",
       "    }\n",
       "\n",
       "    .dataframe tbody tr th {\n",
       "        vertical-align: top;\n",
       "    }\n",
       "\n",
       "    .dataframe thead th {\n",
       "        text-align: right;\n",
       "    }\n",
       "</style>\n",
       "<table border=\"1\" class=\"dataframe\">\n",
       "  <thead>\n",
       "    <tr style=\"text-align: right;\">\n",
       "      <th></th>\n",
       "      <th>num_seats_total</th>\n",
       "      <th>mean_net_ticket_price</th>\n",
       "      <th>train</th>\n",
       "      <th>isnormcabin</th>\n",
       "      <th>isreturn</th>\n",
       "      <th>isoneway</th>\n",
       "      <th>customer_cat</th>\n",
       "      <th>buy_lead_time</th>\n",
       "      <th>dept_dayofweek</th>\n",
       "      <th>dept_monthnum</th>\n",
       "    </tr>\n",
       "  </thead>\n",
       "  <tbody>\n",
       "    <tr>\n",
       "      <th>0</th>\n",
       "      <td>1.00</td>\n",
       "      <td>188.66</td>\n",
       "      <td>A</td>\n",
       "      <td>1</td>\n",
       "      <td>0</td>\n",
       "      <td>0</td>\n",
       "      <td>A</td>\n",
       "      <td>364.00</td>\n",
       "      <td>3</td>\n",
       "      <td>10</td>\n",
       "    </tr>\n",
       "    <tr>\n",
       "      <th>1</th>\n",
       "      <td>1.00</td>\n",
       "      <td>358.43</td>\n",
       "      <td>B</td>\n",
       "      <td>0</td>\n",
       "      <td>1</td>\n",
       "      <td>0</td>\n",
       "      <td>A</td>\n",
       "      <td>355.00</td>\n",
       "      <td>1</td>\n",
       "      <td>5</td>\n",
       "    </tr>\n",
       "    <tr>\n",
       "      <th>2</th>\n",
       "      <td>1.00</td>\n",
       "      <td>356.37</td>\n",
       "      <td>B</td>\n",
       "      <td>0</td>\n",
       "      <td>1</td>\n",
       "      <td>0</td>\n",
       "      <td>A</td>\n",
       "      <td>349.00</td>\n",
       "      <td>7</td>\n",
       "      <td>5</td>\n",
       "    </tr>\n",
       "    <tr>\n",
       "      <th>3</th>\n",
       "      <td>1.00</td>\n",
       "      <td>396.37</td>\n",
       "      <td>C</td>\n",
       "      <td>0</td>\n",
       "      <td>1</td>\n",
       "      <td>0</td>\n",
       "      <td>A</td>\n",
       "      <td>348.00</td>\n",
       "      <td>2</td>\n",
       "      <td>12</td>\n",
       "    </tr>\n",
       "    <tr>\n",
       "      <th>4</th>\n",
       "      <td>1.00</td>\n",
       "      <td>364.26</td>\n",
       "      <td>B</td>\n",
       "      <td>0</td>\n",
       "      <td>1</td>\n",
       "      <td>0</td>\n",
       "      <td>A</td>\n",
       "      <td>347.00</td>\n",
       "      <td>7</td>\n",
       "      <td>5</td>\n",
       "    </tr>\n",
       "  </tbody>\n",
       "</table>\n",
       "</div>"
      ],
      "text/plain": [
       "   num_seats_total  mean_net_ticket_price train  isnormcabin  isreturn  \\\n",
       "0             1.00                 188.66     A            1         0   \n",
       "1             1.00                 358.43     B            0         1   \n",
       "2             1.00                 356.37     B            0         1   \n",
       "3             1.00                 396.37     C            0         1   \n",
       "4             1.00                 364.26     B            0         1   \n",
       "\n",
       "   isoneway customer_cat  buy_lead_time  dept_dayofweek  dept_monthnum  \n",
       "0         0            A         364.00               3             10  \n",
       "1         0            A         355.00               1              5  \n",
       "2         0            A         349.00               7              5  \n",
       "3         0            A         348.00               2             12  \n",
       "4         0            A         347.00               7              5  "
      ]
     },
     "execution_count": 18,
     "metadata": {},
     "output_type": "execute_result"
    }
   ],
   "source": [
    "agg_df.head()"
   ]
  },
  {
   "cell_type": "markdown",
   "id": "cb259af4",
   "metadata": {},
   "source": [
    "### 3.2 Log Transform Demand & Price <a id=\"section3.2\"></a>"
   ]
  },
  {
   "cell_type": "markdown",
   "id": "da1711bc",
   "metadata": {},
   "source": [
    "Log transformations are applied to both demand and price. \n",
    "\n",
    "With log transformation, these variables can now be interpreted as percentage changes which is more intuitive as we typically think of percentage changes in price causing percentage changes in demand, rather than fixed dollar amounts."
   ]
  },
  {
   "cell_type": "code",
   "execution_count": 19,
   "id": "ccbfe713",
   "metadata": {},
   "outputs": [],
   "source": [
    "agg_df['num_seats_total'] = np.log(agg_df['num_seats_total'])\n",
    "agg_df['mean_net_ticket_price'] = np.log(agg_df['mean_net_ticket_price'])"
   ]
  },
  {
   "cell_type": "markdown",
   "id": "720fc459",
   "metadata": {},
   "source": [
    "For clarity of visualisations, text fields *train* and *customer_cat* will only be dummified in the subsequent regression model notebook. "
   ]
  },
  {
   "cell_type": "code",
   "execution_count": 20,
   "id": "a621a029",
   "metadata": {},
   "outputs": [
    {
     "data": {
      "text/html": [
       "<div>\n",
       "<style scoped>\n",
       "    .dataframe tbody tr th:only-of-type {\n",
       "        vertical-align: middle;\n",
       "    }\n",
       "\n",
       "    .dataframe tbody tr th {\n",
       "        vertical-align: top;\n",
       "    }\n",
       "\n",
       "    .dataframe thead th {\n",
       "        text-align: right;\n",
       "    }\n",
       "</style>\n",
       "<table border=\"1\" class=\"dataframe\">\n",
       "  <thead>\n",
       "    <tr style=\"text-align: right;\">\n",
       "      <th></th>\n",
       "      <th>count</th>\n",
       "      <th>unique</th>\n",
       "      <th>top</th>\n",
       "      <th>freq</th>\n",
       "      <th>mean</th>\n",
       "      <th>std</th>\n",
       "      <th>min</th>\n",
       "      <th>25%</th>\n",
       "      <th>50%</th>\n",
       "      <th>75%</th>\n",
       "      <th>max</th>\n",
       "    </tr>\n",
       "  </thead>\n",
       "  <tbody>\n",
       "    <tr>\n",
       "      <th>num_seats_total</th>\n",
       "      <td>197233.00</td>\n",
       "      <td>NaN</td>\n",
       "      <td>NaN</td>\n",
       "      <td>NaN</td>\n",
       "      <td>0.57</td>\n",
       "      <td>0.60</td>\n",
       "      <td>0.00</td>\n",
       "      <td>0.00</td>\n",
       "      <td>0.69</td>\n",
       "      <td>1.10</td>\n",
       "      <td>1.95</td>\n",
       "    </tr>\n",
       "    <tr>\n",
       "      <th>mean_net_ticket_price</th>\n",
       "      <td>197233.00</td>\n",
       "      <td>NaN</td>\n",
       "      <td>NaN</td>\n",
       "      <td>NaN</td>\n",
       "      <td>5.22</td>\n",
       "      <td>0.58</td>\n",
       "      <td>0.25</td>\n",
       "      <td>4.69</td>\n",
       "      <td>5.22</td>\n",
       "      <td>5.81</td>\n",
       "      <td>6.36</td>\n",
       "    </tr>\n",
       "    <tr>\n",
       "      <th>train</th>\n",
       "      <td>197233</td>\n",
       "      <td>14</td>\n",
       "      <td>B</td>\n",
       "      <td>24897</td>\n",
       "      <td>NaN</td>\n",
       "      <td>NaN</td>\n",
       "      <td>NaN</td>\n",
       "      <td>NaN</td>\n",
       "      <td>NaN</td>\n",
       "      <td>NaN</td>\n",
       "      <td>NaN</td>\n",
       "    </tr>\n",
       "    <tr>\n",
       "      <th>isnormcabin</th>\n",
       "      <td>197233.00</td>\n",
       "      <td>NaN</td>\n",
       "      <td>NaN</td>\n",
       "      <td>NaN</td>\n",
       "      <td>0.61</td>\n",
       "      <td>0.49</td>\n",
       "      <td>0.00</td>\n",
       "      <td>0.00</td>\n",
       "      <td>1.00</td>\n",
       "      <td>1.00</td>\n",
       "      <td>1.00</td>\n",
       "    </tr>\n",
       "    <tr>\n",
       "      <th>isreturn</th>\n",
       "      <td>197233.00</td>\n",
       "      <td>NaN</td>\n",
       "      <td>NaN</td>\n",
       "      <td>NaN</td>\n",
       "      <td>0.48</td>\n",
       "      <td>0.50</td>\n",
       "      <td>0.00</td>\n",
       "      <td>0.00</td>\n",
       "      <td>0.00</td>\n",
       "      <td>1.00</td>\n",
       "      <td>1.00</td>\n",
       "    </tr>\n",
       "    <tr>\n",
       "      <th>isoneway</th>\n",
       "      <td>197233.00</td>\n",
       "      <td>NaN</td>\n",
       "      <td>NaN</td>\n",
       "      <td>NaN</td>\n",
       "      <td>0.12</td>\n",
       "      <td>0.32</td>\n",
       "      <td>0.00</td>\n",
       "      <td>0.00</td>\n",
       "      <td>0.00</td>\n",
       "      <td>0.00</td>\n",
       "      <td>1.00</td>\n",
       "    </tr>\n",
       "    <tr>\n",
       "      <th>customer_cat</th>\n",
       "      <td>197233</td>\n",
       "      <td>2</td>\n",
       "      <td>B</td>\n",
       "      <td>153610</td>\n",
       "      <td>NaN</td>\n",
       "      <td>NaN</td>\n",
       "      <td>NaN</td>\n",
       "      <td>NaN</td>\n",
       "      <td>NaN</td>\n",
       "      <td>NaN</td>\n",
       "      <td>NaN</td>\n",
       "    </tr>\n",
       "    <tr>\n",
       "      <th>buy_lead_time</th>\n",
       "      <td>197233.00</td>\n",
       "      <td>NaN</td>\n",
       "      <td>NaN</td>\n",
       "      <td>NaN</td>\n",
       "      <td>63.90</td>\n",
       "      <td>64.79</td>\n",
       "      <td>0.00</td>\n",
       "      <td>16.00</td>\n",
       "      <td>41.00</td>\n",
       "      <td>92.00</td>\n",
       "      <td>364.00</td>\n",
       "    </tr>\n",
       "    <tr>\n",
       "      <th>dept_dayofweek</th>\n",
       "      <td>197233.00</td>\n",
       "      <td>NaN</td>\n",
       "      <td>NaN</td>\n",
       "      <td>NaN</td>\n",
       "      <td>4.03</td>\n",
       "      <td>1.99</td>\n",
       "      <td>1.00</td>\n",
       "      <td>2.00</td>\n",
       "      <td>4.00</td>\n",
       "      <td>6.00</td>\n",
       "      <td>7.00</td>\n",
       "    </tr>\n",
       "    <tr>\n",
       "      <th>dept_monthnum</th>\n",
       "      <td>197233.00</td>\n",
       "      <td>NaN</td>\n",
       "      <td>NaN</td>\n",
       "      <td>NaN</td>\n",
       "      <td>6.71</td>\n",
       "      <td>3.45</td>\n",
       "      <td>1.00</td>\n",
       "      <td>4.00</td>\n",
       "      <td>7.00</td>\n",
       "      <td>10.00</td>\n",
       "      <td>12.00</td>\n",
       "    </tr>\n",
       "  </tbody>\n",
       "</table>\n",
       "</div>"
      ],
      "text/plain": [
       "                          count unique  top    freq  mean   std  min   25%  \\\n",
       "num_seats_total       197233.00    NaN  NaN     NaN  0.57  0.60 0.00  0.00   \n",
       "mean_net_ticket_price 197233.00    NaN  NaN     NaN  5.22  0.58 0.25  4.69   \n",
       "train                    197233     14    B   24897   NaN   NaN  NaN   NaN   \n",
       "isnormcabin           197233.00    NaN  NaN     NaN  0.61  0.49 0.00  0.00   \n",
       "isreturn              197233.00    NaN  NaN     NaN  0.48  0.50 0.00  0.00   \n",
       "isoneway              197233.00    NaN  NaN     NaN  0.12  0.32 0.00  0.00   \n",
       "customer_cat             197233      2    B  153610   NaN   NaN  NaN   NaN   \n",
       "buy_lead_time         197233.00    NaN  NaN     NaN 63.90 64.79 0.00 16.00   \n",
       "dept_dayofweek        197233.00    NaN  NaN     NaN  4.03  1.99 1.00  2.00   \n",
       "dept_monthnum         197233.00    NaN  NaN     NaN  6.71  3.45 1.00  4.00   \n",
       "\n",
       "                        50%   75%    max  \n",
       "num_seats_total        0.69  1.10   1.95  \n",
       "mean_net_ticket_price  5.22  5.81   6.36  \n",
       "train                   NaN   NaN    NaN  \n",
       "isnormcabin            1.00  1.00   1.00  \n",
       "isreturn               0.00  1.00   1.00  \n",
       "isoneway               0.00  0.00   1.00  \n",
       "customer_cat            NaN   NaN    NaN  \n",
       "buy_lead_time         41.00 92.00 364.00  \n",
       "dept_dayofweek         4.00  6.00   7.00  \n",
       "dept_monthnum          7.00 10.00  12.00  "
      ]
     },
     "execution_count": 20,
     "metadata": {},
     "output_type": "execute_result"
    }
   ],
   "source": [
    "# Print numerical summary, including text and date features for completeness\n",
    "agg_df.describe(include = 'all', datetime_is_numeric=True).transpose()"
   ]
  },
  {
   "cell_type": "markdown",
   "id": "163ebea1",
   "metadata": {},
   "source": [
    "## 4. Exploratory Data Analysis on Transformed Data <a id=\"section4\"></a>"
   ]
  },
  {
   "cell_type": "markdown",
   "id": "a1f0239e",
   "metadata": {},
   "source": [
    "Re-running the correlation matrix below demonstrates that log transformation has helped to strengthen the correlation between mean_net_ticket_price from -0.21 above to -0.27 here which is significant. The rest of the relationships remain similar. "
   ]
  },
  {
   "cell_type": "code",
   "execution_count": 21,
   "id": "6caa93ee",
   "metadata": {},
   "outputs": [
    {
     "data": {
      "image/png": "[encoded data removed]",
      "text/plain": [
       "<Figure size 720x432 with 2 Axes>"
      ]
     },
     "metadata": {
      "needs_background": "light"
     },
     "output_type": "display_data"
    }
   ],
   "source": [
    "plt.figure(figsize=(10, 6))\n",
    "\n",
    "# Remove categorical columns\n",
    "cols = agg_df.columns.tolist()\n",
    "corr_cols = [e for e in cols if e not in ('dept_monthnum', 'dept_dayofweek', 'cumulative_sales')]\n",
    "\n",
    "corr_matrix = df[corr_cols].corr()\n",
    "mask = np.triu(np.ones_like(df[corr_cols].corr(), dtype=bool))\n",
    "sns.heatmap(data= corr_matrix, mask = mask, cmap='seismic', vmax = 1, vmin=-1, annot=True, fmt='0.2f')\n",
    "plt.title('Pearson Correlation Matrix', fontsize = 20)\n",
    "plt.show()"
   ]
  },
  {
   "cell_type": "markdown",
   "id": "6663a531",
   "metadata": {},
   "source": [
    "## 5. Export Dataset<a id=\"section5\"></a>"
   ]
  },
  {
   "cell_type": "markdown",
   "id": "7f1e6f13",
   "metadata": {},
   "source": [
    "This dataset is used in *02_Demand_Modelling_with_linearmodels.ipynb* to demonstrate how to deal with the problem of endogeneity."
   ]
  },
  {
   "cell_type": "code",
   "execution_count": 22,
   "id": "618fed24",
   "metadata": {},
   "outputs": [],
   "source": [
    "agg_df.to_csv('clean_data.csv', index = False)"
   ]
  }
 ],
 "metadata": {
  "colab": {
   "collapsed_sections": [],
   "name": "GT_Econs_GW1_v10 (cancellations).ipynb",
   "provenance": []
  },
  "kernelspec": {
   "display_name": "Python 3 (ipykernel)",
   "language": "python",
   "name": "python3"
  },
  "language_info": {
   "codemirror_mode": {
    "name": "ipython",
    "version": 3
   },
   "file_extension": ".py",
   "mimetype": "text/x-python",
   "name": "python",
   "nbconvert_exporter": "python",
   "pygments_lexer": "ipython3",
   "version": "3.8.12"
  }
 },
 "nbformat": 4,
 "nbformat_minor": 5
}
